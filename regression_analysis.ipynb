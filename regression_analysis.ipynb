{
 "cells": [
  {
   "cell_type": "code",
   "execution_count": 1,
   "metadata": {},
   "outputs": [],
   "source": [
    "import numpy as np\n",
    "import matplotlib.pyplot as plt\n",
    "\n",
    "def regression_analysis(dirpath='/fast_scratch_2/aferreira/t2k/ml/data/oct20_combine_flatE/nov22_normed_regression/20092023-101855/'):\n",
    "    '''\n",
    "    - scatter plot of pred vs true\n",
    "    - residual histogram\n",
    "\n",
    "    call this in notebook for now\n",
    "\n",
    "    this model seems to have wrong dims, going back to kernal and stride of 1\n",
    "    '''\n",
    "    true_positions = np.load(dirpath + \"true_positions.npy\")\n",
    "    pred_positions = np.load(dirpath + \"pred_positions.npy\")\n",
    "\n",
    "    # loop over each\n",
    "    for true_vert, pred_vert in range(true_positions, pred_positions):\n",
    "        plt.scatter(true_vert, pred_vert, alpha=0.01, s=0.01)\n",
    "        plt.xlabel('True Position [normalized]')\n",
    "        plt.ylabel('Predicted Position [normalized]')\n",
    "        plt.show()"
   ]
  },
  {
   "cell_type": "code",
   "execution_count": null,
   "metadata": {},
   "outputs": [],
   "source": [
    "regression_analysis()"
   ]
  },
  {
   "cell_type": "markdown",
   "metadata": {},
   "source": [
    "things to compare:\n",
    "- normalized vs not\n",
    "- souly regression vs shared network\n"
   ]
  }
 ],
 "metadata": {
  "kernelspec": {
   "display_name": "Python 3 (ipykernel)",
   "language": "python",
   "name": "python3"
  },
  "language_info": {
   "codemirror_mode": {
    "name": "ipython",
    "version": 3
   },
   "file_extension": ".py",
   "mimetype": "text/x-python",
   "name": "python",
   "nbconvert_exporter": "python",
   "pygments_lexer": "ipython3",
   "version": "3.8.10"
  }
 },
 "nbformat": 4,
 "nbformat_minor": 2
}
